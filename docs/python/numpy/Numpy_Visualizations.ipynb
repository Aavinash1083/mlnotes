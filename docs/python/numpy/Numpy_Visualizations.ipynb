{
 "cells": [
  {
   "cell_type": "raw",
   "metadata": {},
   "source": [
    "---\n",
    "title: \"Numpy_Visualizations\"\n",
    "author: \"Aavinash\"\n",
    "date: 2020-08-12\n",
    "description: \"-\"\n",
    "type: technical_note\n",
    "draft: false\n",
    "---"
   ]
  },
  {
   "cell_type": "code",
   "execution_count": 3,
   "metadata": {},
   "outputs": [],
   "source": [
    "#Import required packages\n",
    "\n",
    "import numpy as np\n",
    "import random\n",
    "from bokeh.io import output_file, show\n",
    "from bokeh.plotting import figure\n",
    "\n",
    "#Creating an array for the points along the x and y axes\n",
    "\n",
    "array_x =np.array([1,2,3,4,5,6])\n",
    "\n",
    "array_y = np.array([5,6,7,8,9,10])\n",
    "\n",
    "#Creating a line plot\n",
    "\n",
    "plot = figure()\n",
    "\n",
    "plot.line(array_x, array_y)\n",
    "\n",
    "#Output the plot\n",
    "\n",
    "output_file('numpy_line.html')\n",
    "\n",
    "show(plot)"
   ]
  },
  {
   "cell_type": "code",
   "execution_count": null,
   "metadata": {},
   "outputs": [],
   "source": []
  }
 ],
 "metadata": {
  "kernelspec": {
   "display_name": "kagglevil_",
   "language": "python",
   "name": "kagglevil_"
  },
  "language_info": {
   "codemirror_mode": {
    "name": "ipython",
    "version": 3
   },
   "file_extension": ".py",
   "mimetype": "text/x-python",
   "name": "python",
   "nbconvert_exporter": "python",
   "pygments_lexer": "ipython3",
   "version": "3.8.5"
  }
 },
 "nbformat": 4,
 "nbformat_minor": 4
}
