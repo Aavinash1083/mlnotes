{
 "cells": [
  {
   "cell_type": "raw",
   "metadata": {},
   "source": [
    "---\n",
    "title: \"Logistic_Regression\"\n",
    "author: \"Aavinash\"\n",
    "date: 2020-09-04\n",
    "description: \"-\"\n",
    "type: technical_note\n",
    "draft: false\n",
    "---"
   ]
  },
  {
   "cell_type": "code",
   "execution_count": 1,
   "metadata": {},
   "outputs": [],
   "source": [
    "import pandas as pd\n",
    "import numpy as np\n",
    "\n",
    "import matplotlib.pyplot as plt\n",
    "\n",
    "%matplotlib inline"
   ]
  },
  {
   "cell_type": "code",
   "execution_count": 2,
   "metadata": {},
   "outputs": [
    {
     "name": "stdout",
     "output_type": "stream",
     "text": [
      "[[1.4 0.2]\n",
      " [1.3 0.2]\n",
      " [1.5 0.2]\n",
      " [1.4 0.2]]\n",
      "[0 0 0 0 0 0 0 0 0 0 0 0 0 0 0 0 0 0 0 0 0 0 0 0 0 0 0 0 0 0 0 0 0 0 0 0 0\n",
      " 0 0 0 0 0 0 0 0 0 0 0 0 0 1 1 1 1 1 1 1 1 1 1 1 1 1 1 1 1 1 1 1 1 1 1 1 1\n",
      " 1 1 1 1 1 1 1 1 1 1 1 1 1 1 1 1 1 1 1 1 1 1 1 1 1 1 2 2 2 2 2 2 2 2 2 2 2\n",
      " 2 2 2 2 2 2 2 2 2 2 2 2 2 2 2 2 2 2 2 2 2 2 2 2 2 2 2 2 2 2 2 2 2 2 2 2 2\n",
      " 2 2]\n"
     ]
    }
   ],
   "source": [
    "from sklearn import datasets\n",
    "iris = datasets.load_iris()\n",
    "\n",
    "X = iris.data[:,[2,3]]\n",
    "Y = iris.target\n",
    "\n",
    "print(X[1:5,:])\n",
    "print(Y)  "
   ]
  },
  {
   "cell_type": "code",
   "execution_count": 5,
   "metadata": {},
   "outputs": [
    {
     "name": "stdout",
     "output_type": "stream",
     "text": [
      "There are  105 samples in the trainig set and 45 samples in the test set\n",
      "-----------------------------------------------------------------------------------------------\n",
      "\n",
      "X_train without standardising features\n",
      "--------------------------------------\n",
      "[[5.5 1.8]\n",
      " [5.7 2.5]\n",
      " [5.  1.5]\n",
      " [5.8 1.8]]\n",
      "\n",
      "X_train standardising features\n",
      "--------------------------------------\n",
      "[[0.93066067 0.7372463 ]\n",
      " [1.04202177 1.63887031]\n",
      " [0.6522579  0.35083601]\n",
      " [1.09770233 0.7372463 ]]\n"
     ]
    }
   ],
   "source": [
    "## 1. Splitting the dataset\n",
    "\n",
    "from sklearn.model_selection import train_test_split\n",
    "X_train, X_test, Y_train, Y_test = train_test_split(X,Y,test_size=0.3,random_state=0)\n",
    "\n",
    "length_Train = len(X_train)\n",
    "length_Test = len(X_test)\n",
    "\n",
    "print(\"There are \",length_Train,\"samples in the trainig set and\",length_Test,\"samples in the test set\")\n",
    "print(\"-----------------------------------------------------------------------------------------------\")\n",
    "print(\"\")\n",
    "\n",
    "## 2. Feature scaling.\n",
    "\n",
    "from sklearn.preprocessing import StandardScaler\n",
    "sc = StandardScaler()\n",
    "sc.fit(X_train)\n",
    "X_train_standard = sc.transform(X_train)\n",
    "X_test_standard = sc.transform(X_test)\n",
    "\n",
    "print(\"X_train without standardising features\")\n",
    "print(\"--------------------------------------\")\n",
    "print(X_train[1:5,:])\n",
    "print(\"\")\n",
    "print(\"X_train standardising features\")\n",
    "print(\"--------------------------------------\")\n",
    "print(X_train_standard[1:5,:])"
   ]
  },
  {
   "cell_type": "code",
   "execution_count": 8,
   "metadata": {},
   "outputs": [
    {
     "data": {
      "text/plain": [
       "LogisticRegression(C=1000.0, random_state=0)"
      ]
     },
     "execution_count": 8,
     "metadata": {},
     "output_type": "execute_result"
    }
   ],
   "source": [
    "from sklearn.metrics import accuracy_score\n",
    "from sklearn.linear_model import LogisticRegression\n",
    "\n",
    "## Initialise the logistc regression model with:\n",
    "##   C (regularization parameter) = 1000\n",
    "lr = LogisticRegression(C = 1000.0, random_state = 0 )\n",
    "lr.fit(X_train_standard, Y_train)"
   ]
  },
  {
   "cell_type": "code",
   "execution_count": 9,
   "metadata": {},
   "outputs": [
    {
     "name": "stdout",
     "output_type": "stream",
     "text": [
      "Accuracy: 0.98\n"
     ]
    }
   ],
   "source": [
    "Y_pred_Logit = lr.predict(X_test_standard)\n",
    "\n",
    "print(\"Accuracy: %.2f\" % accuracy_score(Y_test,Y_pred_Logit))"
   ]
  },
  {
   "cell_type": "code",
   "execution_count": null,
   "metadata": {},
   "outputs": [],
   "source": []
  }
 ],
 "metadata": {
  "kernelspec": {
   "display_name": "kagglevil_",
   "language": "python",
   "name": "kagglevil_"
  },
  "language_info": {
   "codemirror_mode": {
    "name": "ipython",
    "version": 3
   },
   "file_extension": ".py",
   "mimetype": "text/x-python",
   "name": "python",
   "nbconvert_exporter": "python",
   "pygments_lexer": "ipython3",
   "version": "3.8.5"
  }
 },
 "nbformat": 4,
 "nbformat_minor": 4
}
