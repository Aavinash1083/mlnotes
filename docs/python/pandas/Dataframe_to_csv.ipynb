{
 "cells": [
  {
   "cell_type": "raw",
   "metadata": {},
   "source": [
    "---\n",
    "title: \"Dataframe_to_csv\"\n",
    "author: \"Aavinash\"\n",
    "date: 2020-08-12\n",
    "description: \"-\"\n",
    "type: technical_note\n",
    "draft: false\n",
    "---"
   ]
  },
  {
   "cell_type": "code",
   "execution_count": 1,
   "metadata": {},
   "outputs": [],
   "source": [
    "\n",
    "import pandas as pd \n",
    "\n",
    " \n",
    "nme = [\"aparna\", \"pankaj\", \"sudhir\", \"Geeku\"] \n",
    "deg = [\"MBA\", \"BCA\", \"M.Tech\", \"MBA\"] \n",
    "scr = [90, 40, 80, 98] \n",
    "\n",
    " \n",
    "dict = {'name': nme, 'degree': deg, 'score': scr} \n",
    "\n",
    "df = pd.DataFrame(dict) \n",
    "\n",
    " \n",
    "df.to_csv('file1.csv') \n"
   ]
  },
  {
   "cell_type": "code",
   "execution_count": 2,
   "metadata": {},
   "outputs": [],
   "source": [
    "\n",
    "import pandas as pd \n",
    "\n",
    " \n",
    "nme = [\"aparna\", \"pankaj\", \"sudhir\", \"Geeku\"] \n",
    "deg = [\"MBA\", \"BCA\", \"M.Tech\", \"MBA\"] \n",
    "scr = [90, 40, 80, 98] \n",
    " \n",
    "dict = {'name': nme, 'degree': deg, 'score': scr} \n",
    "df = pd.DataFrame(dict) \n",
    "\n",
    "df.to_csv('file2.csv', header=False, index=False) \n"
   ]
  },
  {
   "cell_type": "code",
   "execution_count": 3,
   "metadata": {},
   "outputs": [],
   "source": [
    "\n",
    "import pandas as pd \n",
    "\n",
    "\n",
    "nme = [\"aparna\", \"pankaj\", \"sudhir\", \"Geeku\"] \n",
    "deg = [\"MBA\", \"BCA\", \"M.Tech\", \"MBA\"] \n",
    "scr = [90, 40, 80, 98] \n",
    "\n",
    " \n",
    "dict = {'name': nme, 'degree': deg, 'score': scr} \n",
    "df = pd.DataFrame(dict) \n",
    "\n",
    "\n",
    "df.to_csv(r'C:\\Users\\Admin\\Home\\pandas.csv', index=False) \n"
   ]
  },
  {
   "cell_type": "code",
   "execution_count": 4,
   "metadata": {},
   "outputs": [
    {
     "name": "stdout",
     "output_type": "stream",
     "text": [
      "Original DataFrame:\n",
      "   Name  Age\n",
      "0  Amit   20\n",
      "1  Cody   21\n",
      "2  Drew   25\n",
      "Data from Users.csv:\n",
      "  Name\\tAge\n",
      "0  Amit\\t20\n",
      "1  Cody\\t21\n",
      "2  Drew\\t25\n"
     ]
    }
   ],
   "source": [
    "import pandas as pd \n",
    "import numpy as np \n",
    "users = {'Name': ['Amit', 'Cody', 'Drew'], \n",
    "\t'Age': [20,21,25]} \n",
    "df = pd.DataFrame(users, columns=['Name','Age'])#create DataFrame \n",
    "print(\"Original DataFrame:\") \n",
    "print(df) \n",
    "print('Data from Users.csv:') \n",
    "df.to_csv('Users.csv', sep='\\t', index=False,header=True) \n",
    "new_df = pd.read_csv('Users.csv') \n",
    "print(new_df) \n"
   ]
  },
  {
   "cell_type": "code",
   "execution_count": null,
   "metadata": {},
   "outputs": [],
   "source": []
  }
 ],
 "metadata": {
  "kernelspec": {
   "display_name": "kagglevil_",
   "language": "python",
   "name": "kagglevil_"
  },
  "language_info": {
   "codemirror_mode": {
    "name": "ipython",
    "version": 3
   },
   "file_extension": ".py",
   "mimetype": "text/x-python",
   "name": "python",
   "nbconvert_exporter": "python",
   "pygments_lexer": "ipython3",
   "version": "3.8.5"
  }
 },
 "nbformat": 4,
 "nbformat_minor": 4
}
