{
 "cells": [
  {
   "cell_type": "raw",
   "metadata": {},
   "source": [
    "---\n",
    "title: \"Function_in_Dataframes\"\n",
    "author: \"Aavinash\"\n",
    "date: 2020-08-12\n",
    "description: \"-\"\n",
    "type: technical_note\n",
    "draft: false\n",
    "---"
   ]
  },
  {
   "cell_type": "code",
   "execution_count": 7,
   "metadata": {},
   "outputs": [
    {
     "name": "stdout",
     "output_type": "stream",
     "text": [
      "Original DataFrame:\n",
      "    A  B  C\n",
      "0  1  4  7\n",
      "1  2  5  8\n",
      "2  3  6  9\n",
      "\n",
      "After Applying Function: \n",
      "   A  B  C  add\n",
      "0  1  4  7   12\n",
      "1  2  5  8   15\n",
      "2  3  6  9   18\n"
     ]
    }
   ],
   "source": [
    "# Import pandas package \n",
    "import pandas as pd \n",
    "\n",
    "# Function to add \n",
    "def add(a, b, c): \n",
    "\treturn a + b + c \n",
    "\n",
    "def main(): \n",
    "\t\n",
    "\t# create a dictionary with \n",
    "\t# three fields each \n",
    "\tdata = { \n",
    "\t\t\t'A':[1, 2, 3], \n",
    "\t\t\t'B':[4, 5, 6], \n",
    "\t\t\t'C':[7, 8, 9] } \n",
    "\t\n",
    "\t# Convert the dictionary into DataFrame \n",
    "\tdf = pd.DataFrame(data) \n",
    "\tprint(\"Original DataFrame:\\n\", df) \n",
    "\t\n",
    "\tdf['add'] = df.apply(lambda row : add(row['A'], \n",
    "\t\t\t\t\trow['B'], row['C']), axis = 1) \n",
    "\n",
    "\tprint('\\nAfter Applying Function: ') \n",
    "\t# printing the new dataframe \n",
    "\tprint(df) \n",
    "\n",
    "if __name__ == '__main__': \n",
    "\tmain() \n"
   ]
  },
  {
   "cell_type": "code",
   "execution_count": 9,
   "metadata": {},
   "outputs": [
    {
     "name": "stdout",
     "output_type": "stream",
     "text": [
      "Original DataFrame:\n",
      "    X   Y\n",
      "0  1  45\n",
      "1  2  65\n",
      "2  3  89\n",
      "\n",
      "Normalized:\n",
      "     X   Y\n",
      "0 -0.5  45\n",
      "1 -0.5  65\n",
      "2 -0.5  89\n"
     ]
    }
   ],
   "source": [
    "# Import pandas package \n",
    "import pandas as pd \n",
    "\n",
    "def normalize(x, y): \n",
    "\tx_new = ((x - np.mean([x, y])) /\n",
    "\t\t\t(max(x, y) - min(x, y))) \n",
    "\t\n",
    "\t# print(x_new) \n",
    "\treturn x_new \n",
    "\n",
    "def main(): \n",
    "\t\n",
    "\t# create a dictionary with three fields each \n",
    "\tdata = { \n",
    "\t\t'X':[1, 2, 3], \n",
    "\t\t'Y':[45, 65, 89] } \n",
    "\t\n",
    "\t# Convert the dictionary into DataFrame \n",
    "\tdf = pd.DataFrame(data) \n",
    "\tprint(\"Original DataFrame:\\n\", df) \n",
    "\t\n",
    "\tdf['X'] = df.apply(lambda row : normalize(row['X'], \n",
    "\t\t\t\t\t\t\t\trow['Y']), axis = 1) \n",
    "\n",
    "\tprint('\\nNormalized:') \n",
    "\tprint(df) \n",
    "\n",
    "if __name__ == '__main__': \n",
    "\tmain() \n"
   ]
  },
  {
   "cell_type": "code",
   "execution_count": 10,
   "metadata": {},
   "outputs": [
    {
     "name": "stdout",
     "output_type": "stream",
     "text": [
      "Before applying function: \n",
      "   A   B   C\n",
      "0  0   4  47\n",
      "1  2  15   8\n",
      "2  3   6  19\n",
      "After Applying Function: \n",
      "      A      B      C\n",
      "0  0-10   0-10  40-50\n",
      "1  0-10  10-20   0-10\n",
      "2  0-10   0-10  10-20\n"
     ]
    }
   ],
   "source": [
    "import pandas as pd \n",
    "import numpy as np \n",
    "\n",
    "pd.options.mode.chained_assignment = None\n",
    "\n",
    "# Function to generate range \n",
    "def generate_range(n): \n",
    "\t\n",
    "\t# printing the range for eg: \n",
    "\t# input is 67 output is 60-70 \n",
    "\tn = int(n) \n",
    "\t\n",
    "\tlower_limit = n//10 * 10\n",
    "\tupper_limit = lower_limit + 10\n",
    "\t\n",
    "\treturn str(str(lower_limit) + '-' + str(upper_limit)) \n",
    "\t\n",
    "def replace(row): \n",
    "\tfor i, item in enumerate(row): \n",
    "\t\t\n",
    "\t\t# updating the value of the row \n",
    "\t\trow[i] = generate_range(item) \n",
    "\treturn row \n",
    "\t\t\n",
    "\n",
    "def main(): \n",
    "\t# create a dictionary with \n",
    "\t# three fields each \n",
    "\tdata = { \n",
    "\t\t\t'A':[0, 2, 3], \n",
    "\t\t\t'B':[4, 15, 6], \n",
    "\t\t\t'C':[47, 8, 19] } \n",
    "\t\n",
    "\t# Convert the dictionary into DataFrame \n",
    "\tdf = pd.DataFrame(data) \n",
    "\n",
    "\tprint('Before applying function: ') \n",
    "\tprint(df) \n",
    "\t\n",
    "\t# applying function to each row in \n",
    "\t# dataframe and storing result in a new coloumn \n",
    "\tdf = df.apply(lambda row : replace(row)) \n",
    "\t\n",
    "\n",
    "\tprint('After Applying Function: ') \n",
    "\t# printing the new dataframe \n",
    "\tprint(df) \n",
    "\n",
    "if __name__ == '__main__': \n",
    "\tmain() \n"
   ]
  },
  {
   "cell_type": "code",
   "execution_count": null,
   "metadata": {},
   "outputs": [],
   "source": []
  }
 ],
 "metadata": {
  "kernelspec": {
   "display_name": "kagglevil_",
   "language": "python",
   "name": "kagglevil_"
  },
  "language_info": {
   "codemirror_mode": {
    "name": "ipython",
    "version": 3
   },
   "file_extension": ".py",
   "mimetype": "text/x-python",
   "name": "python",
   "nbconvert_exporter": "python",
   "pygments_lexer": "ipython3",
   "version": "3.8.5"
  }
 },
 "nbformat": 4,
 "nbformat_minor": 4
}
