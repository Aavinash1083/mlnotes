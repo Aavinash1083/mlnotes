{
 "cells": [
  {
   "cell_type": "raw",
   "metadata": {},
   "source": [
    "---\n",
    "title: \"Piechart\"\n",
    "author: \"Aavinash\"\n",
    "date: 2020-09-04\n",
    "description: \"-\"\n",
    "type: technical_note\n",
    "draft: false\n",
    "---"
   ]
  },
  {
   "cell_type": "code",
   "execution_count": 2,
   "metadata": {},
   "outputs": [],
   "source": [
    "import numpy as np \n",
    "import pandas as pd\n",
    "import matplotlib.pyplot as plt\n",
    "import seaborn as sns\n",
    "%matplotlib inline\n"
   ]
  },
  {
   "cell_type": "code",
   "execution_count": 3,
   "metadata": {},
   "outputs": [
    {
     "data": {
      "text/html": [
       "<div>\n",
       "<style scoped>\n",
       "    .dataframe tbody tr th:only-of-type {\n",
       "        vertical-align: middle;\n",
       "    }\n",
       "\n",
       "    .dataframe tbody tr th {\n",
       "        vertical-align: top;\n",
       "    }\n",
       "\n",
       "    .dataframe thead th {\n",
       "        text-align: right;\n",
       "    }\n",
       "</style>\n",
       "<table border=\"1\" class=\"dataframe\">\n",
       "  <thead>\n",
       "    <tr style=\"text-align: right;\">\n",
       "      <th></th>\n",
       "      <th>hours</th>\n",
       "      <th>days</th>\n",
       "      <th>months</th>\n",
       "      <th>names</th>\n",
       "      <th>timestamp</th>\n",
       "    </tr>\n",
       "  </thead>\n",
       "  <tbody>\n",
       "    <tr>\n",
       "      <th>0</th>\n",
       "      <td>1</td>\n",
       "      <td>19</td>\n",
       "      <td>May</td>\n",
       "      <td>Person4</td>\n",
       "      <td>2020-05-19</td>\n",
       "    </tr>\n",
       "    <tr>\n",
       "      <th>1</th>\n",
       "      <td>22</td>\n",
       "      <td>19</td>\n",
       "      <td>May</td>\n",
       "      <td>Person3</td>\n",
       "      <td>2020-05-19</td>\n",
       "    </tr>\n",
       "    <tr>\n",
       "      <th>2</th>\n",
       "      <td>22</td>\n",
       "      <td>19</td>\n",
       "      <td>May</td>\n",
       "      <td>Person3</td>\n",
       "      <td>2020-05-19</td>\n",
       "    </tr>\n",
       "    <tr>\n",
       "      <th>3</th>\n",
       "      <td>22</td>\n",
       "      <td>19</td>\n",
       "      <td>May</td>\n",
       "      <td>Person1</td>\n",
       "      <td>2020-05-19</td>\n",
       "    </tr>\n",
       "    <tr>\n",
       "      <th>4</th>\n",
       "      <td>22</td>\n",
       "      <td>19</td>\n",
       "      <td>May</td>\n",
       "      <td>Person3</td>\n",
       "      <td>2020-05-19</td>\n",
       "    </tr>\n",
       "    <tr>\n",
       "      <th>...</th>\n",
       "      <td>...</td>\n",
       "      <td>...</td>\n",
       "      <td>...</td>\n",
       "      <td>...</td>\n",
       "      <td>...</td>\n",
       "    </tr>\n",
       "    <tr>\n",
       "      <th>51570</th>\n",
       "      <td>19</td>\n",
       "      <td>12</td>\n",
       "      <td>August</td>\n",
       "      <td>Person3</td>\n",
       "      <td>2020-08-12</td>\n",
       "    </tr>\n",
       "    <tr>\n",
       "      <th>51571</th>\n",
       "      <td>19</td>\n",
       "      <td>12</td>\n",
       "      <td>August</td>\n",
       "      <td>Person1</td>\n",
       "      <td>2020-08-12</td>\n",
       "    </tr>\n",
       "    <tr>\n",
       "      <th>51572</th>\n",
       "      <td>20</td>\n",
       "      <td>12</td>\n",
       "      <td>August</td>\n",
       "      <td>Person3</td>\n",
       "      <td>2020-08-12</td>\n",
       "    </tr>\n",
       "    <tr>\n",
       "      <th>51573</th>\n",
       "      <td>21</td>\n",
       "      <td>12</td>\n",
       "      <td>August</td>\n",
       "      <td>Person1</td>\n",
       "      <td>2020-08-12</td>\n",
       "    </tr>\n",
       "    <tr>\n",
       "      <th>51574</th>\n",
       "      <td>21</td>\n",
       "      <td>12</td>\n",
       "      <td>August</td>\n",
       "      <td>Person1</td>\n",
       "      <td>2020-08-12</td>\n",
       "    </tr>\n",
       "  </tbody>\n",
       "</table>\n",
       "<p>51575 rows × 5 columns</p>\n",
       "</div>"
      ],
      "text/plain": [
       "       hours  days  months    names   timestamp\n",
       "0          1    19     May  Person4  2020-05-19\n",
       "1         22    19     May  Person3  2020-05-19\n",
       "2         22    19     May  Person3  2020-05-19\n",
       "3         22    19     May  Person1  2020-05-19\n",
       "4         22    19     May  Person3  2020-05-19\n",
       "...      ...   ...     ...      ...         ...\n",
       "51570     19    12  August  Person3  2020-08-12\n",
       "51571     19    12  August  Person1  2020-08-12\n",
       "51572     20    12  August  Person3  2020-08-12\n",
       "51573     21    12  August  Person1  2020-08-12\n",
       "51574     21    12  August  Person1  2020-08-12\n",
       "\n",
       "[51575 rows x 5 columns]"
      ]
     },
     "execution_count": 3,
     "metadata": {},
     "output_type": "execute_result"
    }
   ],
   "source": [
    "data = pd.read_csv('Whatsapp_chat.csv', index_col=0)\n",
    "data"
   ]
  },
  {
   "cell_type": "code",
   "execution_count": 4,
   "metadata": {},
   "outputs": [
    {
     "data": {
      "text/html": [
       "<div>\n",
       "<style scoped>\n",
       "    .dataframe tbody tr th:only-of-type {\n",
       "        vertical-align: middle;\n",
       "    }\n",
       "\n",
       "    .dataframe tbody tr th {\n",
       "        vertical-align: top;\n",
       "    }\n",
       "\n",
       "    .dataframe thead th {\n",
       "        text-align: right;\n",
       "    }\n",
       "</style>\n",
       "<table border=\"1\" class=\"dataframe\">\n",
       "  <thead>\n",
       "    <tr style=\"text-align: right;\">\n",
       "      <th></th>\n",
       "      <th>hours</th>\n",
       "      <th>days</th>\n",
       "      <th>months</th>\n",
       "      <th>timestamp</th>\n",
       "    </tr>\n",
       "    <tr>\n",
       "      <th>names</th>\n",
       "      <th></th>\n",
       "      <th></th>\n",
       "      <th></th>\n",
       "      <th></th>\n",
       "    </tr>\n",
       "  </thead>\n",
       "  <tbody>\n",
       "    <tr>\n",
       "      <th>Person1</th>\n",
       "      <td>17543</td>\n",
       "      <td>17543</td>\n",
       "      <td>17543</td>\n",
       "      <td>17543</td>\n",
       "    </tr>\n",
       "    <tr>\n",
       "      <th>Person2</th>\n",
       "      <td>3835</td>\n",
       "      <td>3835</td>\n",
       "      <td>3835</td>\n",
       "      <td>3835</td>\n",
       "    </tr>\n",
       "    <tr>\n",
       "      <th>Person3</th>\n",
       "      <td>13514</td>\n",
       "      <td>13514</td>\n",
       "      <td>13514</td>\n",
       "      <td>13514</td>\n",
       "    </tr>\n",
       "    <tr>\n",
       "      <th>Person4</th>\n",
       "      <td>16683</td>\n",
       "      <td>16683</td>\n",
       "      <td>16683</td>\n",
       "      <td>16683</td>\n",
       "    </tr>\n",
       "  </tbody>\n",
       "</table>\n",
       "</div>"
      ],
      "text/plain": [
       "         hours   days  months  timestamp\n",
       "names                                   \n",
       "Person1  17543  17543   17543      17543\n",
       "Person2   3835   3835    3835       3835\n",
       "Person3  13514  13514   13514      13514\n",
       "Person4  16683  16683   16683      16683"
      ]
     },
     "execution_count": 4,
     "metadata": {},
     "output_type": "execute_result"
    }
   ],
   "source": [
    "data.groupby('names').count()"
   ]
  },
  {
   "cell_type": "code",
   "execution_count": 5,
   "metadata": {},
   "outputs": [
    {
     "data": {
      "text/plain": [
       "Person1    17543\n",
       "Person4    16683\n",
       "Person3    13514\n",
       "Person2     3835\n",
       "Name: names, dtype: int64"
      ]
     },
     "execution_count": 5,
     "metadata": {},
     "output_type": "execute_result"
    }
   ],
   "source": [
    "data_temp = data['names'].value_counts()\n",
    "data_temp"
   ]
  },
  {
   "cell_type": "code",
   "execution_count": 6,
   "metadata": {},
   "outputs": [
    {
     "data": {
      "text/plain": [
       "[Text(0, 0.5, 'message ratios')]"
      ]
     },
     "execution_count": 6,
     "metadata": {},
     "output_type": "execute_result"
    },
    {
     "data": {
      "image/png": "[encoded data removed]",
      "text/plain": [
       "<Figure size 864x864 with 1 Axes>"
      ]
     },
     "metadata": {},
     "output_type": "display_data"
    }
   ],
   "source": [
    "\n",
    "data_temp.plot.pie(figsize=(12,12), legend=False, autopct='%1.1f%%', shadow=True, explode=(0.05, 0, 0, 0)).set(ylabel='message ratios')"
   ]
  },
  {
   "cell_type": "code",
   "execution_count": null,
   "metadata": {},
   "outputs": [],
   "source": []
  }
 ],
 "metadata": {
  "kernelspec": {
   "display_name": "kagglevil_",
   "language": "python",
   "name": "kagglevil_"
  },
  "language_info": {
   "codemirror_mode": {
    "name": "ipython",
    "version": 3
   },
   "file_extension": ".py",
   "mimetype": "text/x-python",
   "name": "python",
   "nbconvert_exporter": "python",
   "pygments_lexer": "ipython3",
   "version": "3.8.5"
  }
 },
 "nbformat": 4,
 "nbformat_minor": 4
}
